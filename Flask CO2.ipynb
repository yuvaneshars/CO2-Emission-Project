{
 "cells": [
  {
   "cell_type": "code",
   "execution_count": null,
   "metadata": {},
   "outputs": [
    {
     "name": "stdout",
     "output_type": "stream",
     "text": [
      " * Serving Flask app \"__main__\" (lazy loading)\n",
      " * Environment: production\n",
      "   WARNING: This is a development server. Do not use it in a production deployment.\n",
      "   Use a production WSGI server instead.\n",
      " * Debug mode: off\n"
     ]
    },
    {
     "name": "stderr",
     "output_type": "stream",
     "text": [
      " * Running on http://127.0.0.1:5000/ (Press CTRL+C to quit)\n",
      "127.0.0.1 - - [12/Sep/2020 02:32:12] \"\u001b[37mGET / HTTP/1.1\u001b[0m\" 200 -\n",
      "127.0.0.1 - - [12/Sep/2020 02:32:50] \"\u001b[37mPOST /predict HTTP/1.1\u001b[0m\" 200 -\n"
     ]
    },
    {
     "name": "stdout",
     "output_type": "stream",
     "text": [
      "Prediction is: [126.89009194]\n"
     ]
    }
   ],
   "source": [
    "# -*- coding: utf-8 -*-\n",
    "\"\"\"\n",
    "Created on Wed Sep  9 11:41:10 2020\n",
    "\n",
    "@author: Adminr\n",
    "\"\"\"\n",
    "from flask import Flask,request,render_template\n",
    "import numpy as np\n",
    "import pandas as pd\n",
    "import pickle\n",
    "\n",
    "\n",
    "app=Flask(__name__)\n",
    "filepath=\"D:\\SmartBridge\\CO2 Emission of Cars\\CO2.pkl\"\n",
    "model=pickle.load(open(filepath,'rb'))\n",
    "\n",
    "@app.route('/')\n",
    "def home():\n",
    "    return render_template(\"indexnew.html\")\n",
    "    \n",
    "@app.route('/predict',methods=[\"POST\",\"GET\"])\n",
    "\n",
    "def predict():\n",
    "    input_feature=[float(x) for x in request.form.values() ]\n",
    "    \n",
    "    features_values=[np.array(input_feature)]\n",
    "    \n",
    "    feature_name=['Make', 'Vehicle_Class', 'Engine_Size', 'Cylinders',\n",
    "       'Transmission', 'Fuel_Type', 'Fuel_Consumption_City',\n",
    "       'Fuel_Consumption_Hwy', 'Fuel_Consumption_Comb(mpg)']\n",
    "    \n",
    "    x=pd.DataFrame(features_values,columns=feature_name)\n",
    "    \n",
    "    prediction=model.predict(x)\n",
    "    \n",
    "    print(\"Prediction is:\",prediction)\n",
    "    \n",
    "    return render_template(\"resultnew.html\",prediction=prediction[0])\n",
    "\n",
    "\n",
    "if __name__==\"__main__\":\n",
    "    app.run(debug=False)\n",
    "    "
   ]
  },
  {
   "cell_type": "code",
   "execution_count": null,
   "metadata": {},
   "outputs": [],
   "source": []
  },
  {
   "cell_type": "code",
   "execution_count": null,
   "metadata": {},
   "outputs": [],
   "source": []
  }
 ],
 "metadata": {
  "kernelspec": {
   "display_name": "Python 3",
   "language": "python",
   "name": "python3"
  },
  "language_info": {
   "codemirror_mode": {
    "name": "ipython",
    "version": 3
   },
   "file_extension": ".py",
   "mimetype": "text/x-python",
   "name": "python",
   "nbconvert_exporter": "python",
   "pygments_lexer": "ipython3",
   "version": "3.8.3"
  }
 },
 "nbformat": 4,
 "nbformat_minor": 4
}
